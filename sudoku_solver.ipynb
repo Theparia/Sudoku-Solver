{
 "cells": [
  {
   "cell_type": "markdown",
   "id": "6ac7005e",
   "metadata": {},
   "source": [
    "# AI - Fall 00 - Hands-on - Genetic Algorithm"
   ]
  },
  {
   "cell_type": "markdown",
   "id": "883b62ed",
   "metadata": {},
   "source": [
    "<div style=\"font-size: 16px\">\n",
    "<b>Paria Khoshtab 810198387</b>\n",
    "<hr>\n",
    "</div>"
   ]
  },
  {
   "cell_type": "markdown",
   "id": "f1867005",
   "metadata": {},
   "source": [
    "## Goal"
   ]
  },
  {
   "cell_type": "markdown",
   "id": "ce5f5045",
   "metadata": {},
   "source": [
    "The goal of this project is to get more familiar with `genetic algorithms`, `mating`, `mutation`, and natural `selection` techniques.\n",
    "We also learn that sometimes by choosing simple natural selection criteria, these algorithms perform poorly and\n",
    "We should consider a selection criterion that, in addition to individual performance, also cares about the `diversity`\n",
    "of the population."
   ]
  },
  {
   "cell_type": "markdown",
   "id": "8fced274",
   "metadata": {},
   "source": [
    "## Brief Description"
   ]
  },
  {
   "cell_type": "markdown",
   "id": "63a0fb99",
   "metadata": {},
   "source": [
    "In this problem, we are asked to solve a `sudoku puzzle` using a `genetic algorithm`. Sudoku is a puzzle based on a\n",
    "small number of very simple rules: Every square has to contain a single number. Only the numbers from 1 through to\n",
    "9 can be used. Each 3×3 box can only contain a number from 1 to 9 once. Each vertical column can only contain\n",
    "a number from 1 to 9 once."
   ]
  },
  {
   "cell_type": "markdown",
   "id": "ff4f1aa4",
   "metadata": {},
   "source": [
    "## Modeling the Problem"
   ]
  },
  {
   "cell_type": "markdown",
   "id": "2003d48a",
   "metadata": {},
   "source": [
    "In genetic algorithms, first, we have to provide a definition for the `gene` and then use it to create a `chromosome`. \n",
    "Each chromosome is a suggested way to solve the problem.\n",
    "\n",
    "In this problem, we assume a `gene` is a **cell** in the sudoku puzzle\n",
    "and a `chromosome` is the **entire sudoku puzzle**, which actually contains 81 genes.<hr>"
   ]
  },
  {
   "cell_type": "markdown",
   "id": "7458c8ee",
   "metadata": {},
   "source": [
    "First we have to import necessary libraries."
   ]
  },
  {
   "cell_type": "code",
   "execution_count": 1,
   "id": "c24ab848",
   "metadata": {},
   "outputs": [],
   "source": [
    "import numpy as np\n",
    "import random\n",
    "import copy\n",
    "import random\n",
    "import time"
   ]
  },
  {
   "cell_type": "markdown",
   "id": "ef7a3dca",
   "metadata": {},
   "source": [
    "Then we define some constants like the row and column of the Soduko puzzle and the size of the population in each generation of\n",
    "the genetic algorithm. We consider the population size to be 800."
   ]
  },
  {
   "cell_type": "code",
   "execution_count": 2,
   "id": "d3d85b4b",
   "metadata": {},
   "outputs": [],
   "source": [
    "SIZE = 800\n",
    "ROW = 9\n",
    "COL = 9"
   ]
  },
  {
   "cell_type": "markdown",
   "id": "06b79b06",
   "metadata": {},
   "source": [
    "In the code below, we read each line of the input file and save the given cells of the Soduku puzzle in a 2D array."
   ]
  },
  {
   "cell_type": "code",
   "execution_count": 3,
   "id": "f3947d14",
   "metadata": {},
   "outputs": [],
   "source": [
    "initial_grid = np.arange(ROW * COL).reshape(ROW, COL)\n",
    "file = open(\"Test2.txt\")\n",
    "for i in range(ROW):\n",
    "    initial_grid[i] = file.readline().split()"
   ]
  },
  {
   "cell_type": "markdown",
   "id": "843c8eb7",
   "metadata": {},
   "source": [
    "We create a class called `Chromosome` containing `genes` and `fitness` of a chromosome Which includes 3 methods for updating fitness, mutation\n",
    "(we will cover it later), and printing genes."
   ]
  },
  {
   "cell_type": "code",
   "execution_count": 4,
   "id": "5e456b57",
   "metadata": {},
   "outputs": [],
   "source": [
    "class Chromosome:\n",
    "    def __init__(self, genes):\n",
    "        self.genes = genes\n",
    "        self.fitness = 0\n",
    "        self.update_fitness()\n",
    "        \n",
    "    def update_fitness(self):\n",
    "        self.fitness = 0\n",
    "        for row in self.genes:\n",
    "            self.fitness += len(np.unique(row))\n",
    "            \n",
    "        for column in self.genes.transpose():\n",
    "            self.fitness += len(np.unique(column))\n",
    "            \n",
    "        for i in range(0, ROW, ROW // 3):\n",
    "            for j in range(0, COL, COL // 3):\n",
    "                self.fitness += len(np.unique(self.genes[i: i + 3, j: j + 3]))        \n",
    "        \n",
    "    def print_genes(self):\n",
    "        print(self.genes)\n",
    "        \n",
    "    def mutate(self):\n",
    "        self.update_fitness()\n",
    "        for i in range(ROW):\n",
    "            for j in range(COL):\n",
    "                if initial_grid[i][j] == 0:                    \n",
    "                    r = random.uniform(0, 1)                                           \n",
    "                    valid_numbers = []\n",
    "                    square = self.genes[(i // 3) * 3: (i // 3) * 3 + 3, (j // 3) * 3: (j // 3) * 3 + 3]\n",
    "                    column = self.genes.transpose()[j]\n",
    "                    row = self.genes[i]\n",
    "                    for num in range(1, 10):\n",
    "                        if num not in square and num not in column and num not in row and num != self.genes[i][j]:\n",
    "                            valid_numbers.append(num)\n",
    "                    if len(valid_numbers) > 0 and r < (1 - 1 / (9 * len(valid_numbers))):\n",
    "                        self.genes[i][j] = random.choices(valid_numbers)[0]\n"
   ]
  },
  {
   "cell_type": "markdown",
   "id": "9ce07923",
   "metadata": {},
   "source": [
    "## Initialization"
   ]
  },
  {
   "cell_type": "markdown",
   "id": "9cda67d3",
   "metadata": {},
   "source": [
    "We make the `initial population` of chromosomes completely `randomly` and \n",
    "without any special orientation. The size of this population, as mentioned above, is considered 800.\n",
    "\n",
    "**generate_random_chromosome:** This function generates a random chromosome by randomly\n",
    "filling all cells(genes) in the Sudoku puzzle (chromosome) except the given cells with specific numbers.\n",
    "\n",
    "**generate_initial_population:** This function generates an initial population of chromosomes by calling\n",
    "generate_random_chromosome function."
   ]
  },
  {
   "cell_type": "code",
   "execution_count": 6,
   "id": "fee413fc",
   "metadata": {},
   "outputs": [],
   "source": [
    "def generate_random_chromosome():\n",
    "    chromosome = copy.deepcopy(initial_grid)\n",
    "    for i in range(ROW):\n",
    "        for j in range(COL):\n",
    "            if chromosome[i][j] == 0:\n",
    "                chromosome[i][j] = random.randint(1, 9)      \n",
    "    return Chromosome(chromosome)\n",
    "\n",
    "def generate_initial_population():\n",
    "    population = []\n",
    "    for i in range(SIZE):\n",
    "        population.append(generate_random_chromosome())\n",
    "    return population"
   ]
  },
  {
   "cell_type": "markdown",
   "id": "d4d1ee3c",
   "metadata": {},
   "source": [
    "## Fitness Function"
   ]
  },
  {
   "cell_type": "markdown",
   "id": "312754f9",
   "metadata": {},
   "source": [
    "We consider the `fitness function` as the total number of unique numbers in each row, column, and 3*3 square in the puzzle which \n",
    "is an integer number from 1 to 243. A chromosome with fitness = 243 is the final solution to the problem."
   ]
  },
  {
   "cell_type": "code",
   "execution_count": 5,
   "id": "b1c6163e",
   "metadata": {},
   "outputs": [],
   "source": [
    "def set_fitness(children):\n",
    "    for child in children:\n",
    "        child.update_fitness()\n",
    "    return children"
   ]
  },
  {
   "cell_type": "markdown",
   "id": "ed2d1d3f",
   "metadata": {},
   "source": [
    "## Selection"
   ]
  },
  {
   "cell_type": "markdown",
   "id": "eaf20086",
   "metadata": {},
   "source": [
    "We use `rank-based selection`:\n",
    "The rank-based selection first ranks the population and then every chromosome receives fitness from this ranking.\n",
    "The worst will have fitness 1, the second worst 2, etc. and the best will have fitness N (number of chromosomes in population).\n",
    "After this, all the chromosomes have a chance to be selected.\n",
    "Rank-based selection schemes can avoid premature convergence, resulting in a diverse population.\n",
    "\n",
    "First, we pass 20% of the high-fitness chromosomes directly to the next generation and then implement rank-based selection\n",
    "as follows:\n",
    "\n",
    "1. Accumulated normalized fitness values are computed: the accumulated fitness value of an individual is \n",
    "the sum of its own fitness value plus the fitness values of all the previous individuals.\n",
    "\n",
    "2. A random number r between 0 and 1 is chosen.\n",
    "\n",
    "3. The selected individual is the first one whose accumulated normalized value is greater than or equal to r."
   ]
  },
  {
   "cell_type": "code",
   "execution_count": 7,
   "id": "7887935f",
   "metadata": {},
   "outputs": [],
   "source": [
    "def selection(population):\n",
    "    mating_pool = []\n",
    "    for i in range(80*SIZE//100, SIZE):\n",
    "        mating_pool.append(population[i])\n",
    "    accumulated_normalized_value = []\n",
    "    sum_rank = SIZE * (SIZE + 1) / 2\n",
    "    accumulated_normalized_value = [(i*(i+1)/2)/sum_rank for i in range (1, SIZE + 1)]        \n",
    "    while len(mating_pool) < SIZE:\n",
    "        r = random.random()\n",
    "        for j in range(len(accumulated_normalized_value)):\n",
    "            if accumulated_normalized_value[j] >= r:\n",
    "                mating_pool.append(population[j]);\n",
    "                break                \n",
    "    return mating_pool"
   ]
  },
  {
   "cell_type": "markdown",
   "id": "23874440",
   "metadata": {},
   "source": [
    "## Crossover"
   ]
  },
  {
   "cell_type": "markdown",
   "id": "5af27c4c",
   "metadata": {},
   "source": [
    "We apply a `1-point crossover` on each row of the chromosome. \n",
    "In each row, a point on both parents' chromosomes is picked randomly, and designated a `crossover point`.\n",
    "numbers to the right of that point are swapped between the two parent chromosomes. \n",
    "This results in two offspring, each carrying some genetic information from both parents.\n",
    "\n",
    "We set the `crossover rate` at 0.9 to combine a large percentage of parents each time using the crossover function.\n",
    "\n",
    "**crossover:** This function generates two new children using the 1-point method on each row of chromosomes.\n",
    "\n",
    "**crossover_on_population:** This function calls the crossover function in order to generate new children with a rate of 0.9,\n",
    "it means that if a random float number from 0 to 1 is less than 0.9, we do a crossover, otherwise, we transfer random parents\n",
    "directly to the next step."
   ]
  },
  {
   "cell_type": "code",
   "execution_count": 8,
   "id": "3f7eb0cd",
   "metadata": {},
   "outputs": [],
   "source": [
    "def crossover(parent1, parent2):\n",
    "    child1 = copy.deepcopy(parent1.genes)\n",
    "    child2 = copy.deepcopy(parent2.genes)        \n",
    "    for i in range(ROW):\n",
    "        point = random.randint(1, 7)\n",
    "        for j in range(point, COL):\n",
    "            child1[i][j] = parent2.genes[i][j]\n",
    "            child2[i][j] = parent1.genes[i][j]        \n",
    "    return Chromosome(child1), Chromosome(child2)\n",
    "    \n",
    "    \n",
    "def crossover_on_population(population):\n",
    "    children = []\n",
    "    while len(children) < SIZE:\n",
    "        r = random.uniform(0, 1)\n",
    "        parent1 = random.choices(population)[0]\n",
    "        parent2 = random.choices(population)[0]\n",
    "        if r < 0.9:\n",
    "            child1, child2 = crossover(parent1, parent2)\n",
    "            children.append(child1)\n",
    "            children.append(child2)\n",
    "        else:\n",
    "            children.append(parent1)\n",
    "            children.append(parent2)\n",
    "    return children"
   ]
  },
  {
   "cell_type": "markdown",
   "id": "b9073f02",
   "metadata": {},
   "source": [
    "## Mutation"
   ]
  },
  {
   "cell_type": "markdown",
   "id": "a7753954",
   "metadata": {},
   "source": [
    "In this function, we iterate all the genes of chromosomes and assign each gene a `random valid number`\n",
    "(Non-duplicate numbers in the corresponding row, column, and square)\n",
    "\n",
    "We consider the `mutation rate` to be 1-1/(9*len(valid_numbers)).\n",
    "\n",
    "*Note that mutation function is defined in chromosome class above."
   ]
  },
  {
   "cell_type": "code",
   "execution_count": 9,
   "id": "33a79b5e",
   "metadata": {},
   "outputs": [],
   "source": [
    "def mutate_on_children(children):\n",
    "    for child in children:\n",
    "        child.mutate()\n",
    "    return children"
   ]
  },
  {
   "cell_type": "markdown",
   "id": "1aee08ff",
   "metadata": {},
   "source": [
    "## Genetic Algorithm"
   ]
  },
  {
   "cell_type": "markdown",
   "id": "107fc949",
   "metadata": {},
   "source": [
    "Finally we implement genetic algorithm, using implemented functions above."
   ]
  },
  {
   "cell_type": "code",
   "execution_count": 10,
   "id": "10fcf39a",
   "metadata": {},
   "outputs": [],
   "source": [
    "def genetic_algorithm():\n",
    "    population = generate_initial_population()\n",
    "    generation = 1\n",
    "    while(True):\n",
    "        print(\"Generation:\", generation)\n",
    "        population = set_fitness(population)\n",
    "        population.sort(key = lambda chromosome: chromosome.fitness)\n",
    "        print(\"Best Fitness:\", population[SIZE - 1].fitness)\n",
    "        if population[SIZE - 1].fitness == 243:\n",
    "            population[SIZE - 1].print_genes()\n",
    "            break\n",
    "        population = selection(population)\n",
    "        children = crossover_on_population(population)\n",
    "        children = mutate_on_children(children)\n",
    "        population = copy.deepcopy(children)\n",
    "        generation += 1          "
   ]
  },
  {
   "cell_type": "code",
   "execution_count": 11,
   "id": "2935cbc0",
   "metadata": {
    "scrolled": true
   },
   "outputs": [
    {
     "name": "stdout",
     "output_type": "stream",
     "text": [
      "Generation: 1\n",
      "Best Fitness: 180\n",
      "Generation: 2\n",
      "Best Fitness: 213\n",
      "Generation: 3\n",
      "Best Fitness: 225\n",
      "Generation: 4\n",
      "Best Fitness: 224\n",
      "Generation: 5\n",
      "Best Fitness: 229\n",
      "Generation: 6\n",
      "Best Fitness: 235\n",
      "Generation: 7\n",
      "Best Fitness: 238\n",
      "Generation: 8\n",
      "Best Fitness: 238\n",
      "Generation: 9\n",
      "Best Fitness: 243\n",
      "[[9 6 8 2 5 3 4 7 1]\n",
      " [4 7 5 1 9 6 3 8 2]\n",
      " [3 1 2 4 8 7 6 9 5]\n",
      " [2 5 1 9 4 8 7 6 3]\n",
      " [7 9 3 6 2 5 8 1 4]\n",
      " [8 4 6 3 7 1 2 5 9]\n",
      " [1 8 7 5 3 2 9 4 6]\n",
      " [6 2 9 8 1 4 5 3 7]\n",
      " [5 3 4 7 6 9 1 2 8]]\n",
      "execution time 33.61712408065796\n"
     ]
    }
   ],
   "source": [
    "start = time.time()\n",
    "genetic_algorithm()\n",
    "end = time.time()\n",
    "print('execution time', end-start)"
   ]
  },
  {
   "cell_type": "markdown",
   "id": "7bf67187",
   "metadata": {},
   "source": [
    "## Questions"
   ]
  },
  {
   "cell_type": "markdown",
   "id": "2c67093d",
   "metadata": {},
   "source": [
    "<b>1) Explain the method of selecting the superior chromosomes to produce the next\n",
    "population and the reason for choosing the method used.</b><br>\n",
    "As fully explained above, we use rank-based selection because this method can lead to slower convergence \n",
    "and the best chromosomes do not differ so much from other ones."
   ]
  },
  {
   "cell_type": "markdown",
   "id": "0d2ced92",
   "metadata": {},
   "source": [
    "<b>2) State the reason for choosing your fitness function.</b><br>\n",
    "Since the solution of the Soduko puzzle contains 9 unique values in each row, column, and square, the total number of unique\n",
    "numbers in each row, column, and square in the puzzle is a good choice because it can be easily computed efficiently and\n",
    "it has a definite answer(243), with which we can find the final solution.<br><br>"
   ]
  },
  {
   "cell_type": "markdown",
   "id": "2838dce2",
   "metadata": {},
   "source": [
    "<b>3) State the effect of crossover and mutation functions, the probability of each of them, and \n",
    "the reason for choosing the probability value.</b><br>\n",
    "Crossover: crossover is used to generate new solutions from an existing population, in order to produce \n",
    "chromosomes similar to the optimal solution.<br>\n",
    "we consider a constant crossover rate of 0.9, in order to crossover a large percentage of parents each time using the crossover function\n",
    "and have a diverse population.<br>\n",
    "Mutation: mutation is used to maintain genetic diversity from one generation of a population of genetic algorithm\n",
    "chromosomes to the next, in order to avoid premature convergence.<br>\n",
    "we consider dynamic mutation rate 1-1/9*len(valid_numbers) which is obtained by trial and error\n",
    "and testing different mutation rates. As discussed in class, this rate is higher in the beginning when\n",
    "we are far from the optimal solution, and the closer we get to the main solution, the lower the rate.<br>"
   ]
  },
  {
   "cell_type": "markdown",
   "id": "8d7bed5b",
   "metadata": {},
   "source": [
    "<b>4) Chromosomes may not change after a few more steps. Explain the reason for this and the problems it creates.\n",
    "What solution do you suggest to solve it?</b><br>\n",
    "Reason: Population is filled by individuals that represent the suboptimal solution which is (too) close to the optimal\n",
    "solution.<br>\n",
    "Problems: Genetic algorithm converges to local optima and even after a lifetime, \n",
    "the algorithm does not reach the optimal solution.<br>\n",
    "Solutions: Changing hyperparameters like population size, mutation rate, crossover rate, and selection rate."
   ]
  },
  {
   "cell_type": "markdown",
   "id": "3a685d65",
   "metadata": {},
   "source": [
    "## Conclusion"
   ]
  },
  {
   "cell_type": "markdown",
   "id": "4416c841",
   "metadata": {},
   "source": [
    "Genetic algorithms are commonly used to generate high-quality solutions to optimization and search problems by \n",
    "relying on operators such as mutation, crossover, and selection.\n",
    "This algorithm is faster and easier than other algorithms because we can find out a solution without a deep analysis work \n",
    "in problems with a large number of solutions' successors, but\n",
    "the random heuristics sometimes doesn’t find the optimum, So it is not a complete algorithm \n",
    "(not always the algorithm finds a suitable solution)and sometimes it can get stuck with a local maximum/minimum problem.\n",
    "Nevertheless, crossover and mutation operations help to mitigate it, although this implies\n",
    "more iterations and time."
   ]
  }
 ],
 "metadata": {
  "kernelspec": {
   "display_name": "Python 3 (ipykernel)",
   "language": "python",
   "name": "python3"
  },
  "language_info": {
   "codemirror_mode": {
    "name": "ipython",
    "version": 3
   },
   "file_extension": ".py",
   "mimetype": "text/x-python",
   "name": "python",
   "nbconvert_exporter": "python",
   "pygments_lexer": "ipython3",
   "version": "3.9.16"
  }
 },
 "nbformat": 4,
 "nbformat_minor": 5
}
